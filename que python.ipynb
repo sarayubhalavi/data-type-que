{
 "cells": [
  {
   "cell_type": "code",
   "execution_count": 33,
   "id": "db9b8fbf-6407-4046-924d-b72810fac501",
   "metadata": {},
   "outputs": [
    {
     "name": "stdout",
     "output_type": "stream",
     "text": [
      "Hello World\n",
      "11\n"
     ]
    }
   ],
   "source": [
    "#1. Write a Python program to find the length of the string \"Hello, World!\"\n",
    "\n",
    "\n",
    "x = \"Hello World\" \n",
    "print(x)\n",
    "print(len(x))"
   ]
  },
  {
   "cell_type": "code",
   "execution_count": null,
   "id": "b7eaf315-bcce-4b56-bedd-87a1ea9bd1f1",
   "metadata": {},
   "outputs": [],
   "source": []
  },
  {
   "cell_type": "code",
   "execution_count": 5,
   "id": "ef3b1168-0c48-47ac-8678-1d5b9aef2877",
   "metadata": {},
   "outputs": [
    {
     "name": "stdout",
     "output_type": "stream",
     "text": [
      "PYTHON\n"
     ]
    }
   ],
   "source": [
    "#2. Create a program to convert the string \"python\" to uppercase.\n",
    "\n",
    "\n",
    "x1 = \"python\"\n",
    "x1upper = x1.upper()\n",
    "print(x1upper)\n"
   ]
  },
  {
   "cell_type": "code",
   "execution_count": 10,
   "id": "1e9a06ec-aa69-4fb1-9792-7818ad67644c",
   "metadata": {},
   "outputs": [
    {
     "name": "stdout",
     "output_type": "stream",
     "text": [
      "Welcome to python\n"
     ]
    },
    {
     "data": {
      "text/plain": [
       "' python'"
      ]
     },
     "execution_count": 10,
     "metadata": {},
     "output_type": "execute_result"
    }
   ],
   "source": [
    "#3. Given the string \"Welcome to Python\", extract the substring \"Python\"\n",
    "\n",
    "x2 = \"Welcome to python\"\n",
    "print(x2)\n",
    "x2[10:17]"
   ]
  },
  {
   "cell_type": "code",
   "execution_count": null,
   "id": "c737248c-2272-4b54-9945-b80137187aeb",
   "metadata": {},
   "outputs": [],
   "source": [
    "#4. Write a program to check if the string \"radar\" is a palindrome\n",
    "\n"
   ]
  },
  {
   "cell_type": "code",
   "execution_count": 11,
   "id": "c4d48579-4e42-419f-a1f0-6c535518c46d",
   "metadata": {},
   "outputs": [
    {
     "name": "stdout",
     "output_type": "stream",
     "text": [
      "b@n@n@\n"
     ]
    }
   ],
   "source": [
    "#5 Replace all occurrences of 'a' with '@' in the string \"banana\"\n",
    "\n",
    "y = \"banana\"\n",
    "print(y.replace(\"banana\",\"b@n@n@\"))\n"
   ]
  },
  {
   "cell_type": "code",
   "execution_count": null,
   "id": "cfa5653b-ea05-4da9-846c-cdd81885debd",
   "metadata": {},
   "outputs": [],
   "source": [
    "#6 Write a program to count the number of vowels in the string \"education\".\n",
    "\n",
    "vowels = \"a,e,i,o,\"u\"\n"
   ]
  },
  {
   "cell_type": "code",
   "execution_count": 15,
   "id": "533408b6-e280-4dea-ab41-bbc1a12c4918",
   "metadata": {},
   "outputs": [
    {
     "name": "stdout",
     "output_type": "stream",
     "text": [
      "I Love to code\n"
     ]
    },
    {
     "data": {
      "text/plain": [
       "['I', 'Love', 'to', 'code']"
      ]
     },
     "execution_count": 15,
     "metadata": {},
     "output_type": "execute_result"
    }
   ],
   "source": [
    " #7 Split the string \"I love to code\" into a list of words.\n",
    "\n",
    "msg = \"I Love to code\"\n",
    "print(msg)\n",
    "\n",
    "i = msg.split()\n",
    "i"
   ]
  },
  {
   "cell_type": "code",
   "execution_count": 23,
   "id": "071e9465-6b3f-45de-851d-0737d4c6d6a5",
   "metadata": {},
   "outputs": [
    {
     "name": "stdout",
     "output_type": "stream",
     "text": [
      "Hello  World\n"
     ]
    }
   ],
   "source": [
    "#8 Concatenate the strings \"Hello\" and \"World\" with a space between them.\n",
    "\n",
    "x = \"Hello\"\n",
    "y = \"World\"\n",
    "statement = x+\"  \"+y\n",
    "print(statement)"
   ]
  },
  {
   "cell_type": "code",
   "execution_count": 30,
   "id": "29a01acf-a37f-4329-8606-773d78f1c5b4",
   "metadata": {},
   "outputs": [
    {
     "name": "stdout",
     "output_type": "stream",
     "text": [
      "python3\n"
     ]
    },
    {
     "data": {
      "text/plain": [
       "'py'"
      ]
     },
     "execution_count": 30,
     "metadata": {},
     "output_type": "execute_result"
    }
   ],
   "source": [
    "#9 Write a program to check if the string \"Python3\" starts with \"Py\".\n",
    "\n",
    "v = \"python3\"\n",
    "print(v)\n",
    "v[:2]"
   ]
  },
  {
   "cell_type": "code",
   "execution_count": 32,
   "id": "fd2e9d43-01fc-4d4a-8c8a-3681e790be75",
   "metadata": {},
   "outputs": [
    {
     "data": {
      "text/plain": [
       "'Hello world'"
      ]
     },
     "execution_count": 32,
     "metadata": {},
     "output_type": "execute_result"
    }
   ],
   "source": [
    "#10. Remove leading and trailing whitespaces from the string \"  Hello World  \".\n",
    "\n",
    "\n",
    "x = \"   Hello world  \"\n",
    "\n",
    "x.strip()\n",
    "\n"
   ]
  },
  {
   "cell_type": "markdown",
   "id": "f6a50ddd-db4a-488b-a662-a8dabb3732af",
   "metadata": {},
   "source": [
    " # List #"
   ]
  },
  {
   "cell_type": "code",
   "execution_count": 2,
   "id": "8aabbc7b-abe9-4fb0-82b9-00192558bab3",
   "metadata": {},
   "outputs": [
    {
     "name": "stdout",
     "output_type": "stream",
     "text": [
      "[1, 2, 3, 4, 5]\n",
      "Total length of the list: 5\n"
     ]
    }
   ],
   "source": [
    "#1. Create a list containing the numbers [1, 2, 3, 4, 5] and print its length\n",
    "\n",
    "list = [1,2,3,4,5]\n",
    "print(list)\n",
    "print(f\"Total length of the list: {len(list)}\")"
   ]
  },
  {
   "cell_type": "code",
   "execution_count": 15,
   "id": "8efe2a98-74b2-4fcf-b792-a2cf93f24745",
   "metadata": {},
   "outputs": [
    {
     "name": "stdout",
     "output_type": "stream",
     "text": [
      "[1, 2, 3, 4, 5, 6]\n"
     ]
    }
   ],
   "source": [
    "#2. Write a program to append the number 6 to the list [1, 2, 3, 4, 5].\n",
    "\n",
    "list1 = [1,2,3,4,5]\n",
    "list1.insert(5,6)\n",
    "print(list1)\n",
    "list1.append(\"list1\")"
   ]
  },
  {
   "cell_type": "code",
   "execution_count": 49,
   "id": "8ad16464-73d5-48de-89e7-6955565030e1",
   "metadata": {},
   "outputs": [
    {
     "name": "stdout",
     "output_type": "stream",
     "text": [
      "[1, 2, 3, 4, 5]\n"
     ]
    }
   ],
   "source": [
    "#3. Remove the element 3 from the list [1, 2, 3, 4, 5].\n",
    "\n",
    "list2 = [1,2,3,4,5]\n",
    "print(list2)\n",
    "del(list2[2])\n"
   ]
  },
  {
   "cell_type": "code",
   "execution_count": 50,
   "id": "76df3e73-3d19-4731-a239-6b025dbb46ca",
   "metadata": {},
   "outputs": [
    {
     "data": {
      "text/plain": [
       "[1, 2, 4, 5]"
      ]
     },
     "execution_count": 50,
     "metadata": {},
     "output_type": "execute_result"
    }
   ],
   "source": [
    "list2"
   ]
  },
  {
   "cell_type": "code",
   "execution_count": 39,
   "id": "b37a026e-8873-452a-9904-1b1540a782ba",
   "metadata": {},
   "outputs": [
    {
     "name": "stdout",
     "output_type": "stream",
     "text": [
      "[10, 20, 30, 40]\n",
      "The total sum of the list: 100\n"
     ]
    }
   ],
   "source": [
    "#4. Write a program to find the sum of all elements in the list [10, 20, 30, 40].\n",
    "\n",
    "list4 = [10,20,30,40]\n",
    "print(list4)\n",
    "print(f\"The total sum of the list: {sum(list4)}\")"
   ]
  },
  {
   "cell_type": "code",
   "execution_count": 44,
   "id": "4e0baf86-9646-4917-b897-568ed0b03948",
   "metadata": {},
   "outputs": [
    {
     "name": "stdout",
     "output_type": "stream",
     "text": [
      "['apple', 'banana', 'cherry', 'date']\n"
     ]
    },
    {
     "data": {
      "text/plain": [
       "'date'"
      ]
     },
     "execution_count": 44,
     "metadata": {},
     "output_type": "execute_result"
    }
   ],
   "source": [
    "#5. Access the third element of the list [\"apple\", \"banana\", \"cherry\", \"date\"].\n",
    "\n",
    "list5 = [\"apple\",\"banana\",\"cherry\",\"date\"]\n",
    "print(list5)\n",
    "list5.pop(3)"
   ]
  },
  {
   "cell_type": "code",
   "execution_count": 53,
   "id": "abdbfadc-d3f5-43d2-b85f-f2a7e7f2244f",
   "metadata": {},
   "outputs": [
    {
     "name": "stdout",
     "output_type": "stream",
     "text": [
      "[1, 2, 5, 5, 9]\n"
     ]
    }
   ],
   "source": [
    "#6. Sort the list [5, 2, 9, 1, 5] in ascending order\n",
    "numbers = [5,2,9,1,5]\n",
    "numbers.sort()\n",
    "print(numbers)\n"
   ]
  },
  {
   "cell_type": "code",
   "execution_count": 62,
   "id": "add1a8ab-40df-4615-9826-01736e178291",
   "metadata": {},
   "outputs": [
    {
     "name": "stdout",
     "output_type": "stream",
     "text": [
      "[5, 4, 3, 2, 1]\n"
     ]
    }
   ],
   "source": [
    "#7. Write a program to reverse the list [1, 2, 3, 4, 5].\n",
    "\n",
    "list7 = [1,2,3,4,5]\n",
    "list7.reverse()\n",
    "print(list7)"
   ]
  },
  {
   "cell_type": "code",
   "execution_count": null,
   "id": "19f64163-ecde-476d-8969-ddfb4a9306ae",
   "metadata": {},
   "outputs": [],
   "source": [
    "#8. Create a program to check if \"banana\" exists in the list [\"apple\", \"banana\", \"cherry\"].\n"
   ]
  },
  {
   "cell_type": "code",
   "execution_count": 68,
   "id": "6c26914e-9f6d-4d7b-a57b-7e8fd32706e8",
   "metadata": {},
   "outputs": [
    {
     "name": "stdout",
     "output_type": "stream",
     "text": [
      "the merge of 2 list is: [1, 2, 3, 4, 5, 6]\n"
     ]
    }
   ],
   "source": [
    "#9.  Merge two lists [1, 2, 3] and [4, 5, 6] into a single list.\n",
    "\n",
    "list1 = [1,2,3]\n",
    "list2 = [4,5,6]\n",
    "merge = list1 + list2\n",
    "print(\"the merge of 2 list is:\",sum)"
   ]
  },
  {
   "cell_type": "code",
   "execution_count": 69,
   "id": "b1dfb8ee-9009-4132-837b-3f6a5670dceb",
   "metadata": {},
   "outputs": [
    {
     "name": "stdout",
     "output_type": "stream",
     "text": [
      "5\n"
     ]
    }
   ],
   "source": [
    "#10. Write a program to find the index of 4 in the list [1, 2, 3, 4, 5\n",
    "\n",
    "x1 = [1,2,3,4,5]\n",
    "print(x1[4])"
   ]
  },
  {
   "cell_type": "markdown",
   "id": "96ceb752-2c93-458f-98db-22182a32405b",
   "metadata": {},
   "source": [
    "# Tuple #"
   ]
  },
  {
   "cell_type": "code",
   "execution_count": 73,
   "id": "60ae86e2-7f72-4fb9-9944-7e5fc1588a62",
   "metadata": {},
   "outputs": [
    {
     "name": "stdout",
     "output_type": "stream",
     "text": [
      "(1, 'hello', 3.14)\n",
      "<class 'tuple'>\n"
     ]
    }
   ],
   "source": [
    "#1. Create a tuple with the elements (1, \"hello\", 3.14) and print it.\n",
    "\n",
    "tup = (1,\"hello\",3.14)\n",
    "print(tup)\n",
    "print(type(tup))"
   ]
  },
  {
   "cell_type": "code",
   "execution_count": 75,
   "id": "d69f6b18-b952-4416-8cd3-8de6ffa16022",
   "metadata": {},
   "outputs": [
    {
     "name": "stdout",
     "output_type": "stream",
     "text": [
      "(10, 20, 30, 40)\n",
      "4\n"
     ]
    }
   ],
   "source": [
    "#2.  Write a program to find the length of the tuple (10, 20, 30, 40).\n",
    "\n",
    "tup1 =(10,20,30,40)\n",
    "\n",
    "print(tup1)\n",
    "print(len(tup1))"
   ]
  },
  {
   "cell_type": "code",
   "execution_count": 77,
   "id": "7251cf05-2f62-408e-a882-086390697ed8",
   "metadata": {},
   "outputs": [
    {
     "name": "stdout",
     "output_type": "stream",
     "text": [
      "('apple', 'banana', 'cherry')\n",
      "cherry\n"
     ]
    }
   ],
   "source": [
    "#3. Access the second element of the tuple (\"apple\", \"banana\", \"cherry\").\n",
    "\n",
    "tup2 = (\"apple\", \"banana\", \"cherry\")\n",
    "print(tup2)\n",
    "print(tup2[2])"
   ]
  },
  {
   "cell_type": "code",
   "execution_count": 78,
   "id": "a3a112d8-6650-4a62-88c0-2b9f0ea2ce79",
   "metadata": {},
   "outputs": [
    {
     "name": "stdout",
     "output_type": "stream",
     "text": [
      "(1, 2, 3, 4, 5, 6)\n"
     ]
    }
   ],
   "source": [
    "#4. Write a program to concatenate two tuples (1, 2, 3) and (4, 5, 6)\n",
    "\n",
    "tup1 = (1,2,3)\n",
    "tup2 = (4,5,6)\n",
    "tup3 = tup1 + tup2\n",
    "print(tup3)"
   ]
  },
  {
   "cell_type": "code",
   "execution_count": null,
   "id": "d69d69e5-1387-49ae-baa4-a896ff506e09",
   "metadata": {},
   "outputs": [],
   "source": [
    "#5. Check if the element 5 exists in the tuple (1, 2, 3, 4, 5)\n",
    "\n"
   ]
  },
  {
   "cell_type": "code",
   "execution_count": 80,
   "id": "46ff4770-f2af-4895-84ad-cb5733875908",
   "metadata": {},
   "outputs": [
    {
     "name": "stdout",
     "output_type": "stream",
     "text": [
      "<class 'str'>\n"
     ]
    }
   ],
   "source": [
    "#6. Create a tuple with a single element \"solo\" and print its type.\n",
    "\n",
    "tup = (\"solo\")\n",
    "print(type(tup))"
   ]
  },
  {
   "cell_type": "code",
   "execution_count": 81,
   "id": "4a107d13-3e0d-4269-b371-e8e4b8f785a9",
   "metadata": {},
   "outputs": [
    {
     "name": "stdout",
     "output_type": "stream",
     "text": [
      "count value of tuple: 3\n"
     ]
    }
   ],
   "source": [
    "#7. Write a program to count the occurrences of 2 in the tuple (1, 2, 2, 3, 2).\n",
    "\n",
    "tup1 = (1,2,2,3,2)\n",
    "print(f\"count value of tuple: {tup1.count(2)}\")"
   ]
  },
  {
   "cell_type": "code",
   "execution_count": 87,
   "id": "f4458ce7-b201-42cc-afac-45a96b4caf9b",
   "metadata": {},
   "outputs": [
    {
     "name": "stdout",
     "output_type": "stream",
     "text": [
      "(1, 2, 3)\n"
     ]
    }
   ],
   "source": [
    "#8. Convert the list [1, 2, 3] into a tuple\n",
    "\n",
    "list = [1,2,3]\n",
    "my_tuple = tuple(list)\n",
    "print(my_tuple)"
   ]
  },
  {
   "cell_type": "code",
   "execution_count": 95,
   "id": "9d1f7f0c-0e07-43be-b9d3-8015e9dc94d9",
   "metadata": {},
   "outputs": [
    {
     "name": "stdout",
     "output_type": "stream",
     "text": [
      "red\n",
      "blue\n",
      "green\n"
     ]
    }
   ],
   "source": [
    "#9. Write a program to find the index of \"blue\" in the tuple (\"red\", \"blue\", \"green\").\n",
    "\n",
    "tup = (\"red\",\"blue\",\"green\")\n",
    "print(tup[0])\n",
    "print(tup[1])\n",
    "print(tup[2])\n"
   ]
  },
  {
   "cell_type": "code",
   "execution_count": 97,
   "id": "db64f578-8b49-4334-a089-38e2a44ede3a",
   "metadata": {},
   "outputs": [
    {
     "name": "stdout",
     "output_type": "stream",
     "text": [
      "(1, 2, 3, 4, 5)\n",
      "(1, 2, 3)\n"
     ]
    }
   ],
   "source": [
    "#10. Create a program to slice the tuple (1, 2, 3, 4, 5) to get elements from index 1 to 3.\n",
    "\n",
    "x1 = (1,2,3,4,5)\n",
    "print(x1)\n",
    "print(x1[0:3])"
   ]
  },
  {
   "cell_type": "markdown",
   "id": "0a15277f-864f-4efb-8027-7b34cdd7ed94",
   "metadata": {},
   "source": [
    "# Set #"
   ]
  },
  {
   "cell_type": "code",
   "execution_count": 98,
   "id": "436de556-b05d-4b3b-8983-eee241c2de1d",
   "metadata": {},
   "outputs": [
    {
     "name": "stdout",
     "output_type": "stream",
     "text": [
      "{1, 2, 3, 4}\n",
      "<class 'set'>\n"
     ]
    }
   ],
   "source": [
    "#1. Create a set with the elements {1, 2, 3, 4} and print it\n",
    "\n",
    "set = {1,2,3,4}\n",
    "print(set)\n",
    "print(type(set))"
   ]
  },
  {
   "cell_type": "code",
   "execution_count": 99,
   "id": "3c1a7c59-16f3-411e-a3d9-e8b4da273c6d",
   "metadata": {},
   "outputs": [
    {
     "name": "stdout",
     "output_type": "stream",
     "text": [
      "{1, 2, 3, 4, 5}\n"
     ]
    }
   ],
   "source": [
    "#2.  Write a program to add the element 5 to the set {1, 2, 3, 4}.\n",
    "\n",
    "set = {1,2,3,4}\n",
    "set.add(5)\n",
    "print(set)"
   ]
  },
  {
   "cell_type": "code",
   "execution_count": 100,
   "id": "27c3b776-dea1-4407-aec9-fffd93072422",
   "metadata": {},
   "outputs": [
    {
     "data": {
      "text/plain": [
       "{1, 3, 4, 5}"
      ]
     },
     "execution_count": 100,
     "metadata": {},
     "output_type": "execute_result"
    }
   ],
   "source": [
    "#3. Remove the element 2 from the set {1, 2, 3, 4}.\n",
    "\n",
    "set.remove(2)\n",
    "set"
   ]
  },
  {
   "cell_type": "code",
   "execution_count": null,
   "id": "dea6a315-a4ab-42bf-9b16-a59f4d3ef959",
   "metadata": {},
   "outputs": [],
   "source": [
    "#4. Check if 3 exists in the set {1, 2, 3, 4}.\n",
    "\n"
   ]
  },
  {
   "cell_type": "code",
   "execution_count": 101,
   "id": "df9b8004-4b4d-4937-bf99-2dbf9b0344c1",
   "metadata": {},
   "outputs": [
    {
     "name": "stdout",
     "output_type": "stream",
     "text": [
      "{1, 2, 3}\n",
      "{3, 4, 5}\n",
      "{1, 2, 3, 4, 5}\n"
     ]
    }
   ],
   "source": [
    "#5. . Write a program to find the union of sets {1, 2, 3} and {3, 4, 5}.\n",
    "\n",
    "setA  = {1,2,3}\n",
    "print(setA)\n",
    "setB = {3,4,5}\n",
    "print(setB)\n",
    "print(setA.union(setB))"
   ]
  },
  {
   "cell_type": "code",
   "execution_count": 102,
   "id": "d16604fa-f98d-49a8-8551-3bdbb62e2181",
   "metadata": {},
   "outputs": [
    {
     "name": "stdout",
     "output_type": "stream",
     "text": [
      "{1, 2, 3, 4}\n",
      "{3, 4, 5, 6}\n",
      "{3, 4}\n"
     ]
    }
   ],
   "source": [
    "#6.  Find the intersection of sets {1, 2, 3, 4} and {3, 4, 5, 6}.\n",
    "\n",
    "setA = {1,2,3,4}\n",
    "print(setA)\n",
    "setB = {3,4,5,6}\n",
    "print(setB)\n",
    "print(setA.intersection(setB))"
   ]
  },
  {
   "cell_type": "code",
   "execution_count": null,
   "id": "f4c58383-77cb-407b-a734-06c7fc18ef49",
   "metadata": {},
   "outputs": [],
   "source": [
    "#7. Write a program to check if {1, 2} is a subset of {1, 2, 3, 4}.\n",
    "\n"
   ]
  },
  {
   "cell_type": "code",
   "execution_count": 103,
   "id": "774a85b9-6c67-40a7-ace9-322ba69ee42e",
   "metadata": {},
   "outputs": [
    {
     "name": "stdout",
     "output_type": "stream",
     "text": [
      "{1, 2, 3}\n",
      "{2, 3, 4}\n",
      "{1}\n",
      "{4}\n"
     ]
    }
   ],
   "source": [
    "#8.  Create a program to find the difference between sets {1, 2, 3} and {2, 3, 4}.\n",
    "\n",
    "setA = {1,2,3}\n",
    "print(setA)\n",
    "setB = {2,3,4}\n",
    "print(setB)\n",
    "print(setA-setB)\n",
    "print(setB-setA)"
   ]
  },
  {
   "cell_type": "code",
   "execution_count": 107,
   "id": "7ecc28b9-92d2-4508-80b0-762575186a59",
   "metadata": {},
   "outputs": [
    {
     "name": "stdout",
     "output_type": "stream",
     "text": [
      "[1, 2, 2, 3]\n"
     ]
    }
   ],
   "source": [
    "#9. Convert the list [1, 2, 2, 3] into a set to remove duplicates\n",
    "\n",
    "nlis = [1,2,2,3]\n",
    "print(nlis)\n",
    "\n"
   ]
  },
  {
   "cell_type": "code",
   "execution_count": 112,
   "id": "0832c643-473f-4e2d-9afb-bdaf98591142",
   "metadata": {},
   "outputs": [
    {
     "ename": "TypeError",
     "evalue": "'set' object is not callable",
     "output_type": "error",
     "traceback": [
      "\u001b[31m---------------------------------------------------------------------------\u001b[39m",
      "\u001b[31mTypeError\u001b[39m                                 Traceback (most recent call last)",
      "\u001b[36mCell\u001b[39m\u001b[36m \u001b[39m\u001b[32mIn[112]\u001b[39m\u001b[32m, line 1\u001b[39m\n\u001b[32m----> \u001b[39m\u001b[32m1\u001b[39m set2 = \u001b[38;5;28;43mset\u001b[39;49m\u001b[43m \u001b[49m\u001b[43m(\u001b[49m\u001b[43mnlis\u001b[49m\u001b[43m)\u001b[49m\n\u001b[32m      2\u001b[39m \u001b[38;5;28mprint\u001b[39m(set2)\n",
      "\u001b[31mTypeError\u001b[39m: 'set' object is not callable"
     ]
    }
   ],
   "source": [
    "set2 = set(nlis)\n",
    "print(set2)"
   ]
  },
  {
   "cell_type": "code",
   "execution_count": 114,
   "id": "08b47b7f-64c4-4ae7-ab0f-c5e75b30a184",
   "metadata": {},
   "outputs": [],
   "source": [
    "#10. Write a program to clear all elements from the set {1, 2, 3}.\n",
    "\n",
    "set10 = {1,2,3}\n",
    "set10.clear()"
   ]
  },
  {
   "cell_type": "code",
   "execution_count": 115,
   "id": "bbc4ea05-49c2-4a01-b0b3-eb20326c693b",
   "metadata": {},
   "outputs": [
    {
     "data": {
      "text/plain": [
       "set()"
      ]
     },
     "execution_count": 115,
     "metadata": {},
     "output_type": "execute_result"
    }
   ],
   "source": [
    "set10"
   ]
  },
  {
   "cell_type": "markdown",
   "id": "db4a1c70-100d-4e0e-942a-492c400cf2e3",
   "metadata": {},
   "source": [
    "# Dictionary #"
   ]
  },
  {
   "cell_type": "code",
   "execution_count": 116,
   "id": "8d3132c4-79bf-454c-9c35-d246b00ce681",
   "metadata": {},
   "outputs": [
    {
     "data": {
      "text/plain": [
       "{'Name': 'Alice', 'age': 25}"
      ]
     },
     "execution_count": 116,
     "metadata": {},
     "output_type": "execute_result"
    }
   ],
   "source": [
    "#1.  Create a dictionary with keys \"name\" and \"age\" and values \"Alice\" and 25, then print it.\n",
    "\n",
    "person1 = {\n",
    "    'Name':\"Alice\",\n",
    "    'age':25\n",
    "}\n",
    "person1"
   ]
  },
  {
   "cell_type": "code",
   "execution_count": 118,
   "id": "1d671282-dddb-4410-bd3b-ecd1ee41a252",
   "metadata": {},
   "outputs": [
    {
     "name": "stdout",
     "output_type": "stream",
     "text": [
      "blue\n"
     ]
    }
   ],
   "source": [
    "#2. Write a program to access the value of the key \"color\" from the dictionary {\"color\": \"blue\", \"size\": \"small\"\n",
    "\n",
    "sample_dict = {\"color\":\"blue\",\n",
    "              \"size\":\"small\"\n",
    "              }\n",
    "sample_dict\n",
    "\n",
    "print(sample_dict[\"color\"])"
   ]
  },
  {
   "cell_type": "code",
   "execution_count": 119,
   "id": "333ca26e-2e5f-4d08-b1ce-a7fef5500893",
   "metadata": {},
   "outputs": [
    {
     "data": {
      "text/plain": [
       "{'name': 'Bob', 'age': 30, 'city': 'New York'}"
      ]
     },
     "execution_count": 119,
     "metadata": {},
     "output_type": "execute_result"
    }
   ],
   "source": [
    "#3. Add a new key-value pair \"city\": \"New York\" to the dictionary {\"name\": \"Bob\", \"age\": 30}\n",
    "\n",
    "person1 = {\n",
    "    \"name\": \"Bob\",\n",
    "    \"age\": 30,\n",
    "    \"city\": \"New York\"\n",
    "}\n",
    "person1"
   ]
  },
  {
   "cell_type": "code",
   "execution_count": 120,
   "id": "ef3aea9d-ead2-463f-9385-faa04431844c",
   "metadata": {},
   "outputs": [
    {
     "data": {
      "text/plain": [
       "{'item': 'pen', 'price': 5}"
      ]
     },
     "execution_count": 120,
     "metadata": {},
     "output_type": "execute_result"
    }
   ],
   "source": [
    "#4. Write a program to remove the key \"price\" from the dictionary {\"item\": \"pen\", \"price\": 5}.\n",
    "\n",
    "dict_sample = {\n",
    "    \"item\":\"pen\",\n",
    "    \"price\":5\n",
    "}\n",
    "dict_sample\n"
   ]
  },
  {
   "cell_type": "code",
   "execution_count": 121,
   "id": "ebffde31-6359-4f83-9666-6ca329c53492",
   "metadata": {},
   "outputs": [
    {
     "data": {
      "text/plain": [
       "5"
      ]
     },
     "execution_count": 121,
     "metadata": {},
     "output_type": "execute_result"
    }
   ],
   "source": [
    "dict_sample.pop(\"price\")"
   ]
  },
  {
   "cell_type": "code",
   "execution_count": 122,
   "id": "3b7e39b5-0c8c-4389-bc2f-86ae9b0b5ce7",
   "metadata": {},
   "outputs": [
    {
     "data": {
      "text/plain": [
       "{'item': 'pen'}"
      ]
     },
     "execution_count": 122,
     "metadata": {},
     "output_type": "execute_result"
    }
   ],
   "source": [
    "dict_sample"
   ]
  },
  {
   "cell_type": "code",
   "execution_count": 123,
   "id": "354a76e6-6529-4054-8903-3cf6a8121449",
   "metadata": {},
   "outputs": [
    {
     "data": {
      "text/plain": [
       "{'age': 40, 'city': 'London'}"
      ]
     },
     "execution_count": 123,
     "metadata": {},
     "output_type": "execute_result"
    }
   ],
   "source": [
    "#5.  Check if the key \"name\" exists in the dictionary {\"age\": 40, \"city\": \"London\"}\n",
    "\n",
    "person2 = {\n",
    "    \"age\":40,\n",
    "    \"city\":\"London\"\n",
    "}\n",
    "person2\n"
   ]
  },
  {
   "cell_type": "code",
   "execution_count": 124,
   "id": "81a7bc52-9b52-4952-8bb3-9f2b3817e31f",
   "metadata": {},
   "outputs": [
    {
     "data": {
      "text/plain": [
       "True"
      ]
     },
     "execution_count": 124,
     "metadata": {},
     "output_type": "execute_result"
    }
   ],
   "source": [
    "\"age\" in person2"
   ]
  },
  {
   "cell_type": "code",
   "execution_count": 125,
   "id": "09de89b4-97ed-4ec8-9bfd-ef1ea8a0b313",
   "metadata": {},
   "outputs": [
    {
     "data": {
      "text/plain": [
       "True"
      ]
     },
     "execution_count": 125,
     "metadata": {},
     "output_type": "execute_result"
    }
   ],
   "source": [
    "\"city\" in person2"
   ]
  },
  {
   "cell_type": "code",
   "execution_count": 126,
   "id": "f4762e05-5858-4055-ab01-feccb5a36151",
   "metadata": {},
   "outputs": [
    {
     "data": {
      "text/plain": [
       "False"
      ]
     },
     "execution_count": 126,
     "metadata": {},
     "output_type": "execute_result"
    }
   ],
   "source": [
    "\"name\" in person2"
   ]
  },
  {
   "cell_type": "code",
   "execution_count": 127,
   "id": "a1b4fb56-8207-48a4-9eb5-3078fd5e0a75",
   "metadata": {},
   "outputs": [
    {
     "data": {
      "text/plain": [
       "{'a': 1, 'b': 2, 'c': 3}"
      ]
     },
     "execution_count": 127,
     "metadata": {},
     "output_type": "execute_result"
    }
   ],
   "source": [
    "#6. Write a program to print all keys of the dictionary {\"a\": 1, \"b\": 2, \"c\": 3}.\n",
    "\n",
    "keys = {\n",
    "    \"a\": 1,\n",
    "    \"b\": 2,\n",
    "    \"c\": 3\n",
    "}\n",
    "keys"
   ]
  },
  {
   "cell_type": "code",
   "execution_count": 128,
   "id": "5533c8fd-c36c-485b-8e38-5d77a7595209",
   "metadata": {},
   "outputs": [
    {
     "data": {
      "text/plain": [
       "{'fruit': 'apple', 'color': 'red', 'price': 2}"
      ]
     },
     "execution_count": 128,
     "metadata": {},
     "output_type": "execute_result"
    }
   ],
   "source": [
    "#7.. Print all values of the dictionary {\"fruit\": \"apple\", \"color\": \"red\", \"price\": 2}.\n",
    "\n",
    "key = {\n",
    "    \"fruit\": \"apple\",\n",
    "    \"color\": \"red\",\n",
    "    \"price\": 2\n",
    "}\n",
    "key"
   ]
  },
  {
   "cell_type": "code",
   "execution_count": 131,
   "id": "f8386ea0-dbba-4699-8d48-4f5d36e2354a",
   "metadata": {},
   "outputs": [
    {
     "data": {
      "text/plain": [
       "dict_values(['apple', 'red', 2])"
      ]
     },
     "execution_count": 131,
     "metadata": {},
     "output_type": "execute_result"
    }
   ],
   "source": [
    "key.values()"
   ]
  },
  {
   "cell_type": "code",
   "execution_count": 132,
   "id": "674cec8a-4ec4-4df9-a53a-96214b77ff3b",
   "metadata": {},
   "outputs": [
    {
     "data": {
      "text/plain": [
       "{'score': 90, 'grade': 'A'}"
      ]
     },
     "execution_count": 132,
     "metadata": {},
     "output_type": "execute_result"
    }
   ],
   "source": [
    "#8.  Create a program to update the value of the key \"score\" to 95 in the dictionary {\"score\": 90, \"grade\": \"A\"}.\n",
    "\n",
    "key = {\n",
    "    \"score\": 90,\n",
    "    \"grade\": \"A\"\n",
    "    \n",
    "}\n",
    "key\n"
   ]
  },
  {
   "cell_type": "code",
   "execution_count": 133,
   "id": "25958f0a-29e3-4b2a-aaba-3f804307a276",
   "metadata": {},
   "outputs": [],
   "source": [
    "key[\"score\"] = 95"
   ]
  },
  {
   "cell_type": "code",
   "execution_count": 134,
   "id": "3580c6e8-4e56-4453-b947-214e18be56ed",
   "metadata": {},
   "outputs": [
    {
     "data": {
      "text/plain": [
       "{'score': 95, 'grade': 'A'}"
      ]
     },
     "execution_count": 134,
     "metadata": {},
     "output_type": "execute_result"
    }
   ],
   "source": [
    "key"
   ]
  },
  {
   "cell_type": "code",
   "execution_count": 135,
   "id": "5a1fbc2a-c162-4dcc-b58c-695d82b3b23e",
   "metadata": {},
   "outputs": [
    {
     "data": {
      "text/plain": [
       "{'x': 10, 'y': 20, 'z': 30}"
      ]
     },
     "execution_count": 135,
     "metadata": {},
     "output_type": "execute_result"
    }
   ],
   "source": [
    "#9. Write a program to find the length of the dictionary {\"x\": 10, \"y\": 20, \"z\": 30}.\n",
    "\n",
    "dict = {\n",
    "    \"x\": 10,\n",
    "    \"y\": 20,\n",
    "    \"z\": 30\n",
    "    \n",
    "}\n",
    "dict\n"
   ]
  },
  {
   "cell_type": "code",
   "execution_count": 140,
   "id": "d25720b5-94f4-4ee9-8dc7-76adc8d5ef97",
   "metadata": {},
   "outputs": [
    {
     "name": "stdout",
     "output_type": "stream",
     "text": [
      "length of dictionary: 3\n"
     ]
    }
   ],
   "source": [
    "length = len(dict)\n",
    "print(\"length of dictionary:\",length)"
   ]
  },
  {
   "cell_type": "code",
   "execution_count": 143,
   "id": "73c040d4-265a-41a8-befd-ba5bf2ce0ba1",
   "metadata": {},
   "outputs": [
    {
     "data": {
      "text/plain": [
       "{'a': 1, 'b': 2}"
      ]
     },
     "execution_count": 143,
     "metadata": {},
     "output_type": "execute_result"
    }
   ],
   "source": [
    "#10.  Merge two dictionaries {\"a\": 1, \"b\": 2} and {\"c\": 3, \"d\": 4} into a single dictionary.\n",
    "\n",
    "dict1 = {\n",
    "    \"a\": 1,\n",
    "    \"b\": 2\n",
    "}\n",
    "dict1\n",
    "\n"
   ]
  },
  {
   "cell_type": "code",
   "execution_count": 144,
   "id": "dbc5031c-ac58-4952-86d2-2da96e67bed9",
   "metadata": {},
   "outputs": [
    {
     "data": {
      "text/plain": [
       "{'c': 3, 'd': 4}"
      ]
     },
     "execution_count": 144,
     "metadata": {},
     "output_type": "execute_result"
    }
   ],
   "source": [
    "dict2 = {\n",
    "    \"c\": 3,\n",
    "    \"d\": 4\n",
    "}\n",
    "dict2"
   ]
  },
  {
   "cell_type": "code",
   "execution_count": 148,
   "id": "871d05ce-ce38-4d53-80cf-cbf5a12ef2cd",
   "metadata": {},
   "outputs": [
    {
     "name": "stdout",
     "output_type": "stream",
     "text": [
      "{'a': 1, 'b': 2, 'c': 3, 'd': 4}\n"
     ]
    }
   ],
   "source": [
    "dict1.update(dict2)\n",
    "print(dict1)"
   ]
  },
  {
   "cell_type": "code",
   "execution_count": null,
   "id": "60167d19-1700-457e-8695-cd2aad2ed940",
   "metadata": {},
   "outputs": [],
   "source": []
  }
 ],
 "metadata": {
  "kernelspec": {
   "display_name": "Python 3 (ipykernel)",
   "language": "python",
   "name": "python3"
  },
  "language_info": {
   "codemirror_mode": {
    "name": "ipython",
    "version": 3
   },
   "file_extension": ".py",
   "mimetype": "text/x-python",
   "name": "python",
   "nbconvert_exporter": "python",
   "pygments_lexer": "ipython3",
   "version": "3.13.4"
  }
 },
 "nbformat": 4,
 "nbformat_minor": 5
}
